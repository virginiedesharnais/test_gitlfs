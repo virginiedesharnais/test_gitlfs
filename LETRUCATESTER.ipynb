{
 "cells": [
  {
   "cell_type": "code",
   "execution_count": 3,
   "id": "1fd87b74",
   "metadata": {},
   "outputs": [],
   "source": [
    "# -*- coding: utf-8 -*-\n",
    "__author__ = 'virginiedesharnais'\n",
    "\n",
    "import pandas as pd\n",
    "import numpy as np\n"
   ]
  },
  {
   "cell_type": "code",
   "execution_count": 4,
   "id": "1daf13b7",
   "metadata": {},
   "outputs": [],
   "source": [
    "# Load Data\n",
    "userHeader = ['user_id', 'gender', 'age', 'ocupation', 'zip']\n",
    "users = pd.read_csv('dataSet/users.txt', engine='python',\n",
    "                    sep='::', header=None, names=userHeader, encoding='ISO-8859-1')\n",
    "\n",
    "movieHeader = ['movie_id', 'title', 'genders']\n",
    "movies = pd.read_csv('dataSet/movies.txt', engine='python',\n",
    "                     sep='::', header=None, names=movieHeader, encoding='ISO-8859-1')\n",
    "\n",
    "ratingHeader = ['user_id', 'movie_id', 'rating', 'timestamp']\n",
    "ratings = pd.read_csv('dataSet/ratings.txt', engine='python',\n",
    "                      sep='::', header=None, names=ratingHeader, encoding='ISO-8859-1')\n"
   ]
  },
  {
   "cell_type": "code",
   "execution_count": 5,
   "id": "80bd0e86",
   "metadata": {},
   "outputs": [],
   "source": [
    "# Merge data\n",
    "mergeRatings = pd.merge(pd.merge(users, ratings), movies)\n"
   ]
  },
  {
   "cell_type": "code",
   "execution_count": 6,
   "id": "6651e82c",
   "metadata": {},
   "outputs": [],
   "source": [
    "# Clone DataFrame\n",
    "\n",
    "\n",
    "def cloneDF(df):\n",
    "    a = pd.DataFrame(df.values.copy(), df.index.copy(), df.columns.copy())\n",
    "    return a.apply(pd.to_numeric, errors = 'ignore')"
   ]
  },
  {
   "cell_type": "code",
   "execution_count": 7,
   "id": "a4e1a17b",
   "metadata": {},
   "outputs": [
    {
     "name": "stdout",
     "output_type": "stream",
     "text": [
      "Films with more votes: \n",
      "title\n",
      "American Beauty (1999)                                   3428\n",
      "Star Wars: Episode IV - A New Hope (1977)                2991\n",
      "Star Wars: Episode V - The Empire Strikes Back (1980)    2990\n",
      "Star Wars: Episode VI - Return of the Jedi (1983)        2883\n",
      "Jurassic Park (1993)                                     2672\n",
      "Saving Private Ryan (1998)                               2653\n",
      "Terminator 2: Judgment Day (1991)                        2649\n",
      "Matrix, The (1999)                                       2590\n",
      "Back to the Future (1985)                                2583\n",
      "Silence of the Lambs, The (1991)                         2578\n",
      "dtype: int64\n",
      "\n",
      "==================================================================\n",
      "\n"
     ]
    }
   ],
   "source": [
    "\n",
    "# Show Films with more votes. (groupby + sorted)\n",
    "numberRatings = cloneDF(mergeRatings)\n",
    "numberRatings = numberRatings.groupby(\n",
    "    'title').size().sort_values(ascending=False)\n",
    "print('Films with more votes: \\n%s' % numberRatings[:10])\n",
    "print('\\n==================================================================\\n')\n"
   ]
  },
  {
   "cell_type": "code",
   "execution_count": 8,
   "id": "58f68d1d",
   "metadata": {},
   "outputs": [
    {
     "name": "stdout",
     "output_type": "stream",
     "text": [
      "Avg ratings: \n",
      "movie_id  title                             \n",
      "1         Toy Story (1995)                      4.146846\n",
      "2         Jumanji (1995)                        3.201141\n",
      "3         Grumpier Old Men (1995)               3.016736\n",
      "4         Waiting to Exhale (1995)              2.729412\n",
      "5         Father of the Bride Part II (1995)    3.006757\n",
      "6         Heat (1995)                           3.878723\n",
      "7         Sabrina (1995)                        3.410480\n",
      "8         Tom and Huck (1995)                   3.014706\n",
      "9         Sudden Death (1995)                   2.656863\n",
      "10        GoldenEye (1995)                      3.540541\n",
      "Name: rating, dtype: float64\n",
      "\n",
      "==================================================================\n",
      "\n"
     ]
    }
   ],
   "source": [
    "\n",
    "# Show avg ratings movie (groupby + avg)\n",
    "avgRatings = cloneDF(mergeRatings)\n",
    "avgRatings = avgRatings.groupby(['movie_id', 'title']).mean()\n",
    "print('Avg ratings: \\n%s' % avgRatings['rating'][:10])\n",
    "print('\\n==================================================================\\n')\n"
   ]
  },
  {
   "cell_type": "code",
   "execution_count": 9,
   "id": "dcd9c91d",
   "metadata": {},
   "outputs": [
    {
     "name": "stdout",
     "output_type": "stream",
     "text": [
      "Films ratings info: \n",
      "                                                 mean   sum  count       std\n",
      "movie_id title                                                              \n",
      "1        Toy Story (1995)                    4.146846  8613   2077  0.852349\n",
      "2        Jumanji (1995)                      3.201141  2244    701  0.983172\n",
      "3        Grumpier Old Men (1995)             3.016736  1442    478  1.071712\n",
      "4        Waiting to Exhale (1995)            2.729412   464    170  1.013381\n",
      "5        Father of the Bride Part II (1995)  3.006757   890    296  1.025086\n",
      "6        Heat (1995)                         3.878723  3646    940  0.934588\n",
      "7        Sabrina (1995)                      3.410480  1562    458  0.979918\n",
      "8        Tom and Huck (1995)                 3.014706   205     68  0.954059\n",
      "9        Sudden Death (1995)                 2.656863   271    102  1.048290\n",
      "10       GoldenEye (1995)                    3.540541  3144    888  0.891233\n",
      "\n",
      "==================================================================\n",
      "\n"
     ]
    }
   ],
   "source": [
    "\n",
    "# Show data ratings movies (groupby + several funtions)\n",
    "dataRatings = cloneDF(mergeRatings)\n",
    "dataRatings = dataRatings.groupby(['movie_id', 'title'])[\n",
    "    'rating'].agg(['mean', 'sum', 'count', 'std'])\n",
    "print('Films ratings info: \\n%s' % dataRatings[:10])\n",
    "print('\\n==================================================================\\n')\n"
   ]
  },
  {
   "cell_type": "code",
   "execution_count": 10,
   "id": "fa3f589c",
   "metadata": {},
   "outputs": [
    {
     "name": "stdout",
     "output_type": "stream",
     "text": [
      "My info ratings: \n",
      "                                              SUM  COUNT       AVG     myAVG\n",
      "movie_id title                                                              \n",
      "1        Toy Story (1995)                    8613   2077  4.146846  4.146846\n",
      "2        Jumanji (1995)                      2244    701  3.201141  3.201141\n",
      "3        Grumpier Old Men (1995)             1442    478  3.016736  3.016736\n",
      "4        Waiting to Exhale (1995)             464    170  2.729412  2.729412\n",
      "5        Father of the Bride Part II (1995)   890    296  3.006757  3.006757\n",
      "6        Heat (1995)                         3646    940  3.878723  3.878723\n",
      "7        Sabrina (1995)                      1562    458  3.410480  3.410480\n",
      "8        Tom and Huck (1995)                  205     68  3.014706  3.014706\n",
      "9        Sudden Death (1995)                  271    102  2.656863  2.656863\n",
      "10       GoldenEye (1995)                    3144    888  3.540541  3.540541\n",
      "\n",
      "==================================================================\n",
      "\n"
     ]
    }
   ],
   "source": [
    "\n",
    "\n",
    "# Show data ratings movies, applying a function (groupby + lambda function)\n",
    "myAvg = cloneDF(mergeRatings)\n",
    "myAvg = myAvg.groupby(['movie_id', 'title'])['rating'].agg(\n",
    "    SUM=np.sum, COUNT=np.size, AVG=np.mean, myAVG=lambda x: x.sum() / float(x.count()))\n",
    "print('My info ratings: \\n%s' % myAvg[:10])\n",
    "print('\\n==================================================================\\n')\n"
   ]
  },
  {
   "cell_type": "code",
   "execution_count": 16,
   "id": "4625b35f",
   "metadata": {},
   "outputs": [
    {
     "name": "stdout",
     "output_type": "stream",
     "text": [
      "My info sorted: \n",
      "                                                             COUNT     myAVG\n",
      "movie_id title                                                              \n",
      "2858     American Beauty (1999)                               3428  4.317386\n",
      "260      Star Wars: Episode IV - A New Hope (1977)            2991  4.453694\n",
      "1196     Star Wars: Episode V - The Empire Strikes Back ...   2990  4.292977\n",
      "1210     Star Wars: Episode VI - Return of the Jedi (1983)    2883  4.022893\n",
      "480      Jurassic Park (1993)                                 2672  3.763847\n",
      "2028     Saving Private Ryan (1998)                           2653  4.337354\n",
      "589      Terminator 2: Judgment Day (1991)                    2649  4.058513\n",
      "2571     Matrix, The (1999)                                   2590  4.315830\n",
      "1270     Back to the Future (1985)                            2583  3.990321\n",
      "593      Silence of the Lambs, The (1991)                     2578  4.351823\n",
      "1580     Men in Black (1997)                                  2538  3.739953\n",
      "1198     Raiders of the Lost Ark (1981)                       2514  4.477725\n",
      "608      Fargo (1996)                                         2513  4.254676\n",
      "2762     Sixth Sense, The (1999)                              2459  4.406263\n",
      "110      Braveheart (1995)                                    2443  4.234957\n"
     ]
    }
   ],
   "source": [
    "\n",
    "# Sort data ratings by created field (groupby + lambda function + sorted)\n",
    "SehijaEil = cloneDF(mergeRatings)\n",
    "SehijaEil = SehijaEil.groupby(['movie_id', 'title'])['rating'].agg(\n",
    "    COUNT=np.size, myAVG=lambda x: x.sum() / float(x.count())).sort_values('COUNT', ascending=False)\n",
    "print('My info sorted: \\n%s' % SehijaEil[:15])\n"
   ]
  },
  {
   "cell_type": "code",
   "execution_count": 15,
   "id": "18c73754",
   "metadata": {},
   "outputs": [],
   "source": [
    "#on a changé sort par sort_values"
   ]
  },
  {
   "cell_type": "code",
   "execution_count": null,
   "id": "b07670a3",
   "metadata": {},
   "outputs": [],
   "source": []
  }
 ],
 "metadata": {
  "kernelspec": {
   "display_name": "Python 3 (ipykernel)",
   "language": "python",
   "name": "python3"
  },
  "language_info": {
   "codemirror_mode": {
    "name": "ipython",
    "version": 3
   },
   "file_extension": ".py",
   "mimetype": "text/x-python",
   "name": "python",
   "nbconvert_exporter": "python",
   "pygments_lexer": "ipython3",
   "version": "3.9.7"
  }
 },
 "nbformat": 4,
 "nbformat_minor": 5
}
